{
 "cells": [
  {
   "cell_type": "code",
   "execution_count": 7,
   "id": "bc1ef2d7-0c73-4a09-9e67-db5600eae280",
   "metadata": {},
   "outputs": [
    {
     "name": "stdout",
     "output_type": "stream",
     "text": [
      "File: ../data/raw/asrs crash reports/ASRS_Cessna 182 Skywagon, 188 Wagon, 190.csv has 187 rows.\n",
      "File: ../data/raw/asrs crash reports/ASRS_Cessna 152, 162 Skycatcher, Cessna 170.csv has 1059 rows.\n",
      "File: ../data/raw/asrs crash reports/ASRS_Cesssna 120, 140, 150.csv has 838 rows.\n",
      "File: ../data/raw/asrs crash reports/ASRS_Cessna 340, 401, 401, 404, 411, 425, 425, C510, C680, C850, T-37, A-37.csv has 4464 rows.\n",
      "File: ../data/raw/asrs crash reports/ASRS_Cessna 340, 401, 401, 404, 411, 425, 425, C510, C680, C850, T-37, A-37.csv has 4464 rows.\n",
      "File: ../data/raw/asrs crash reports/ASRS_Cessna 195, 205, 206, 207, 210, 210C, 210D.csv has 801 rows.\n",
      "Total number of rows across all files: 11813\n",
      "Total number of rows in the merged file: 11813\n",
      "Merged file saved to: ../data/raw/asrs_merged_file.csv\n"
     ]
    }
   ],
   "source": [
    "import pandas as pd\n",
    "\n",
    "# Specify the exact paths to your CSV files\n",
    "file_paths = [\n",
    "    '../data/raw/asrs crash reports/ASRS_Cessna 182 Skywagon, 188 Wagon, 190.csv',\n",
    "    '../data/raw/asrs crash reports/ASRS_Cessna 152, 162 Skycatcher, Cessna 170.csv',\n",
    "    '../data/raw/asrs crash reports/ASRS_Cesssna 120, 140, 150.csv',\n",
    "    '../data/raw/asrs crash reports/ASRS_Cessna 340, 401, 401, 404, 411, 425, 425, C510, C680, C850, T-37, A-37.csv',\n",
    "    '../data/raw/asrs crash reports/ASRS_Cessna 340, 401, 401, 404, 411, 425, 425, C510, C680, C850, T-37, A-37.csv',\n",
    "    '../data/raw/asrs crash reports/ASRS_Cessna 195, 205, 206, 207, 210, 210C, 210D.csv'\n",
    "]\n",
    "\n",
    "# Initialize an empty list to hold DataFrames\n",
    "dataframes = []\n",
    "\n",
    "# Initialize a variable to keep track of the total number of rows across all files\n",
    "total_rows_across_files = 0\n",
    "\n",
    "# Loop through the list of specified files and read them into DataFrames\n",
    "for file_path in file_paths:\n",
    "    df = pd.read_csv(file_path)\n",
    "    num_rows = len(df)\n",
    "    dataframes.append(df)\n",
    "    total_rows_across_files += num_rows\n",
    "    print(f\"File: {file_path} has {num_rows} rows.\")\n",
    "\n",
    "# Output the total number of rows across all files\n",
    "print(f\"Total number of rows across all files: {total_rows_across_files}\")\n",
    "\n",
    "# Concatenate all DataFrames into a single DataFrame\n",
    "merged_df = pd.concat(dataframes, ignore_index=True)\n",
    "\n",
    "# Output the total number of rows in the merged DataFrame\n",
    "total_rows_merged = len(merged_df)\n",
    "print(f\"Total number of rows in the merged file: {total_rows_merged}\")\n",
    "\n",
    "# Specify the path to save the merged DataFrame\n",
    "output_path = '../data/raw/asrs_merged_file.csv'\n",
    "\n",
    "# Save the merged DataFrame to the specified path\n",
    "merged_df.to_csv(output_path, index=False)\n",
    "\n",
    "print(f\"Merged file saved to: {output_path}\")"
   ]
  },
  {
   "cell_type": "code",
   "execution_count": null,
   "id": "24c794ee-282f-419a-bb17-f82a37a426cf",
   "metadata": {},
   "outputs": [],
   "source": []
  }
 ],
 "metadata": {
  "kernelspec": {
   "display_name": "Python 3 (ipykernel)",
   "language": "python",
   "name": "python3"
  },
  "language_info": {
   "codemirror_mode": {
    "name": "ipython",
    "version": 3
   },
   "file_extension": ".py",
   "mimetype": "text/x-python",
   "name": "python",
   "nbconvert_exporter": "python",
   "pygments_lexer": "ipython3",
   "version": "3.12.4"
  }
 },
 "nbformat": 4,
 "nbformat_minor": 5
}
