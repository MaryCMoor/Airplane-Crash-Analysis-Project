{
 "cells": [
  {
   "cell_type": "code",
   "execution_count": 13,
   "id": "587a4b50-4203-4ec9-a844-8bc9635e82b3",
   "metadata": {},
   "outputs": [
    {
     "name": "stdout",
     "output_type": "stream",
     "text": [
      "Data downloaded successfully and saved to ../data/raw/ntsb_crash_reports.csv\n",
      "Data loaded successfully with 176554 rows.\n"
     ]
    }
   ],
   "source": [
    "import os\n",
    "import requests\n",
    "import pandas as pd\n",
    "\n",
    "def download_data(download_url, save_path):\n",
    "    \"\"\"\n",
    "    Downloads data from a specified URL and saves it to a local path.\n",
    "    \n",
    "    Parameters:\n",
    "    - download_url: str, the URL to fetch the data from.\n",
    "    - save_path: str, the file path to save the downloaded data.\n",
    "    \"\"\"\n",
    "    # Ensure the directory exists\n",
    "    os.makedirs(os.path.dirname(save_path), exist_ok=True)\n",
    "\n",
    "    try:\n",
    "        # Download the data\n",
    "        response = requests.get(download_url)\n",
    "        response.raise_for_status()  # Raises an error for bad status codes\n",
    "\n",
    "        # Save the content to the specified path\n",
    "        with open(save_path, \"wb\") as file:\n",
    "            file.write(response.content)\n",
    "        print(f\"Data downloaded successfully and saved to {save_path}\")\n",
    "\n",
    "    except requests.exceptions.RequestException as e:\n",
    "        print(f\"Failed to download data from {download_url}. Error: {e}\")\n",
    "\n",
    "def load_and_check_data(file_path):\n",
    "    \"\"\"\n",
    "    Loads a CSV file into a pandas DataFrame and prints the number of rows.\n",
    "    \n",
    "    Parameters:\n",
    "    - file_path: str, the path of the CSV file to load.\n",
    "    \n",
    "    Returns:\n",
    "    - df: pandas DataFrame, loaded DataFrame from the CSV file.\n",
    "    \"\"\"\n",
    "    try:\n",
    "        df = pd.read_csv(file_path, low_memory=False)\n",
    "        print(f\"Data loaded successfully with {len(df)} rows.\")\n",
    "        return df\n",
    "    except Exception as e:\n",
    "        print(f\"Error reading the CSV file: {e}\")\n",
    "        return None\n",
    "\n",
    "def download_crash_reports():\n",
    "    \"\"\"\n",
    "    Wrapper function to download NTSB crash reports and load the data.\n",
    "    \"\"\"\n",
    "    # Define the URL and path\n",
    "    download_url = \"https://www.ntsb.gov/_layouts/15/NTSB.AviationInvestigationSearch/Download.ashx?queryId=8ec56440-7f1f-471c-a3b8-27e54de8cc99&type=csv\"\n",
    "    save_path = \"../data/raw/ntsb_crash_reports.csv\"\n",
    "\n",
    "    # Download the data\n",
    "    download_data(download_url, save_path)\n",
    "\n",
    "    # Load and check the data\n",
    "    return load_and_check_data(save_path)\n",
    "\n",
    "if __name__ == \"__main__\":\n",
    "    # Run the download and check function for NTSB crash reports\n",
    "    df = download_crash_reports()\n"
   ]
  },
  {
   "cell_type": "code",
   "execution_count": null,
   "id": "21fb933e-428b-4dc8-8db8-9812b4c40a1c",
   "metadata": {},
   "outputs": [],
   "source": []
  }
 ],
 "metadata": {
  "kernelspec": {
   "display_name": "Python 3 (ipykernel)",
   "language": "python",
   "name": "python3"
  },
  "language_info": {
   "codemirror_mode": {
    "name": "ipython",
    "version": 3
   },
   "file_extension": ".py",
   "mimetype": "text/x-python",
   "name": "python",
   "nbconvert_exporter": "python",
   "pygments_lexer": "ipython3",
   "version": "3.12.4"
  }
 },
 "nbformat": 4,
 "nbformat_minor": 5
}
